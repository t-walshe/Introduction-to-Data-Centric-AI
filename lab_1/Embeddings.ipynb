{
 "cells": [
  {
   "cell_type": "code",
   "execution_count": 17,
   "id": "113f152f-a65b-4190-9914-9d2129852435",
   "metadata": {
    "tags": []
   },
   "outputs": [],
   "source": [
    "from __future__ import annotations\n",
    "import pandas as pd\n",
    "import numpy as np\n",
    "from transformers import AutoTokenizer, AutoModel\n",
    "from sentence_transformers import SentenceTransformer"
   ]
  },
  {
   "cell_type": "markdown",
   "id": "5e2045fa-c7a3-4f53-91a1-2aa06fbf5ce1",
   "metadata": {},
   "source": [
    "# Model for embedding the data"
   ]
  },
  {
   "cell_type": "code",
   "execution_count": 10,
   "id": "f9826175-2a13-431a-a956-fb9711f78d65",
   "metadata": {
    "tags": []
   },
   "outputs": [
    {
     "name": "stderr",
     "output_type": "stream",
     "text": [
      "Downloading (…)a8e1d/.gitattributes: 100%|████████████████████████████████████████████████| 1.18k/1.18k [00:00<00:00, 206kB/s]\n",
      "Downloading (…)_Pooling/config.json: 100%|███████████████████████████████████████████████████| 190/190 [00:00<00:00, 26.0kB/s]\n",
      "Downloading (…)b20bca8e1d/README.md: 100%|███████████████████████████████████████████████| 10.6k/10.6k [00:00<00:00, 1.24MB/s]\n",
      "Downloading (…)0bca8e1d/config.json: 100%|███████████████████████████████████████████████████| 571/571 [00:00<00:00, 74.4kB/s]\n",
      "Downloading (…)ce_transformers.json: 100%|███████████████████████████████████████████████████| 116/116 [00:00<00:00, 12.7kB/s]\n",
      "Downloading (…)e1d/data_config.json: 100%|███████████████████████████████████████████████| 39.3k/39.3k [00:00<00:00, 3.40MB/s]\n",
      "Downloading pytorch_model.bin: 100%|███████████████████████████████████████████████████████| 438M/438M [01:00<00:00, 7.19MB/s]\n",
      "Downloading (…)nce_bert_config.json: 100%|█████████████████████████████████████████████████| 53.0/53.0 [00:00<00:00, 5.61kB/s]\n",
      "Downloading (…)cial_tokens_map.json: 100%|███████████████████████████████████████████████████| 239/239 [00:00<00:00, 30.2kB/s]\n",
      "Downloading (…)a8e1d/tokenizer.json: 100%|█████████████████████████████████████████████████| 466k/466k [00:00<00:00, 7.23MB/s]\n",
      "Downloading (…)okenizer_config.json: 100%|███████████████████████████████████████████████████| 363/363 [00:00<00:00, 45.5kB/s]\n",
      "Downloading (…)8e1d/train_script.py: 100%|███████████████████████████████████████████████| 13.1k/13.1k [00:00<00:00, 1.79MB/s]\n",
      "Downloading (…)b20bca8e1d/vocab.txt: 100%|█████████████████████████████████████████████████| 232k/232k [00:00<00:00, 9.23MB/s]\n",
      "Downloading (…)bca8e1d/modules.json: 100%|███████████████████████████████████████████████████| 349/349 [00:00<00:00, 31.3kB/s]\n"
     ]
    }
   ],
   "source": [
    "model = SentenceTransformer('all-mpnet-base-v2')"
   ]
  },
  {
   "cell_type": "markdown",
   "id": "230604fc-e77f-46fb-b08d-777d2c04a2b3",
   "metadata": {},
   "source": [
    "# Load and embed the data"
   ]
  },
  {
   "cell_type": "code",
   "execution_count": 6,
   "id": "502f7bf9-ed13-4733-b7a3-d337be402ee9",
   "metadata": {
    "tags": []
   },
   "outputs": [],
   "source": [
    "df = pd.read_csv(\"data/train.csv\")\n",
    "\n",
    "# This takes about 18 minutes on a base spec M1 MBP\n",
    "embedded_data: np.ndarray = model.encode(df[\"review\"])\n",
    "\n",
    "with open(\"data/train_embedded.npy\", \"wb\") as f:\n",
    "    np.save(f, embedded_data)"
   ]
  },
  {
   "cell_type": "code",
   "execution_count": 45,
   "id": "f313a9f3-29e0-4355-807c-8591f4869b7d",
   "metadata": {
    "tags": []
   },
   "outputs": [],
   "source": [
    "df = pd.read_csv(\"data/test.csv\")\n",
    "\n",
    "# This takes about 6 minutes on a base spec M1 MBP\n",
    "embedded_data: np.ndarray = model.encode(df[\"review\"])\n",
    "\n",
    "with open(\"data/test_embedded.npy\", \"wb\") as f:\n",
    "    np.save(f, embedded_data)"
   ]
  }
 ],
 "metadata": {
  "kernelspec": {
   "display_name": "Python 3 (ipykernel)",
   "language": "python",
   "name": "python3"
  },
  "language_info": {
   "codemirror_mode": {
    "name": "ipython",
    "version": 3
   },
   "file_extension": ".py",
   "mimetype": "text/x-python",
   "name": "python",
   "nbconvert_exporter": "python",
   "pygments_lexer": "ipython3",
   "version": "3.8.13"
  }
 },
 "nbformat": 4,
 "nbformat_minor": 5
}
