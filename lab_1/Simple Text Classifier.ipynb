{
 "cells": [
  {
   "cell_type": "code",
   "execution_count": 1,
   "id": "5562c9f2-a321-46b5-82d3-5c2c123b814f",
   "metadata": {
    "tags": []
   },
   "outputs": [],
   "source": [
    "from __future__ import annotations\n",
    "import pandas as pd\n",
    "import numpy as np\n",
    "\n",
    "import torch\n",
    "from torch.utils.data import Dataset\n",
    "from torch.utils.data import DataLoader"
   ]
  },
  {
   "cell_type": "markdown",
   "id": "39722b18-8bf6-4c4e-831a-7b8edfa88484",
   "metadata": {},
   "source": [
    "# Loading the data"
   ]
  },
  {
   "cell_type": "code",
   "execution_count": 2,
   "id": "1dbacc43-5c0c-4d8f-8cba-07bd8d7243c5",
   "metadata": {
    "tags": []
   },
   "outputs": [],
   "source": [
    "df_train: pd.DataFrame = pd.read_csv(\"data/train.csv\")\n",
    "df_test: pd.DataFrame = pd.read_csv(\"data/test.csv\")"
   ]
  },
  {
   "cell_type": "code",
   "execution_count": 3,
   "id": "50982752-f88f-495a-abb9-272cdcc4d235",
   "metadata": {
    "tags": []
   },
   "outputs": [],
   "source": [
    "with open(\"data/train_embedded.npy\", \"rb\") as f:\n",
    "    embedded_train: np.ndarray = np.load(f)\n",
    "    \n",
    "with open(\"data/test_embedded.npy\", \"rb\") as f:\n",
    "    embedded_test: np.ndarray = np.load(f)"
   ]
  },
  {
   "cell_type": "markdown",
   "id": "51c436b8-a8b2-4555-b260-3238b53bdb48",
   "metadata": {},
   "source": [
    "# Creating a Dataset"
   ]
  },
  {
   "cell_type": "code",
   "execution_count": 4,
   "id": "afe25294-1ebb-440f-9641-8e9a162f559e",
   "metadata": {
    "tags": []
   },
   "outputs": [],
   "source": [
    "class TextClassificationDataset(Dataset):\n",
    "    def __init__(self, text: list[str], labels: list[int], embeddings: np.ndarray):\n",
    "        self.text: np.ndarray = np.array(text)\n",
    "        self.labels: np.ndarray = np.array(labels)\n",
    "        self.embeddings: np.ndarray = embeddings\n",
    "\n",
    "    def __len__(self):\n",
    "        return self.embeddings.shape[0]\n",
    "\n",
    "    def __getitem__(self, idx: int):\n",
    "        return self.text[idx], self.labels[idx], self.embeddings[idx]"
   ]
  },
  {
   "cell_type": "code",
   "execution_count": 5,
   "id": "e21c60e1-4876-4f8a-820f-2cc8d55932fd",
   "metadata": {
    "tags": []
   },
   "outputs": [],
   "source": [
    "training_data = TextClassificationDataset(df_train[\"review\"], \n",
    "                                          df_train[\"label\"].apply(lambda x: 1 if x == \"good\" else 0), \n",
    "                                          embedded_train)\n",
    "\n",
    "test_data = TextClassificationDataset(df_test[\"review\"], \n",
    "                                      df_test[\"label\"].apply(lambda x: 1 if x == \"good\" else 0), \n",
    "                                      embedded_test)"
   ]
  },
  {
   "cell_type": "markdown",
   "id": "02b6f3c4-2832-4779-b618-781c11b04b04",
   "metadata": {},
   "source": [
    "# Training a model"
   ]
  },
  {
   "cell_type": "code",
   "execution_count": 94,
   "id": "330b5720-08c0-428c-a911-d096b97ab709",
   "metadata": {
    "tags": []
   },
   "outputs": [],
   "source": [
    "class SimpleLinearClassifier(torch.nn.Module):\n",
    "    def __init__(self, dims_input: int, dims_output: int, dropout: float = 0.0):\n",
    "        super().__init__()\n",
    "        self.linear = torch.nn.Linear(dims_input, dims_output)\n",
    "        self.sigmoid = torch.nn.Sigmoid()\n",
    "        self.dropout = torch.nn.Dropout(p=dropout)\n",
    "        \n",
    "    def forward(self, x):\n",
    "        x = self.dropout(x)\n",
    "        return self.linear(x)\n",
    "        \n",
    "    def inference(self, x):\n",
    "        y = self.forward(x)\n",
    "        return self.sigmoid(y)"
   ]
  },
  {
   "cell_type": "code",
   "execution_count": 14,
   "id": "82db0249-07f1-4dde-b41b-05d4642b0741",
   "metadata": {
    "tags": []
   },
   "outputs": [],
   "source": [
    "def train(model, dataloader, criterion, optimizer) -> float:\n",
    "    model.train()\n",
    "    losses: list[float] = []\n",
    "    for text, labels, embeddings in iter(dataloader):\n",
    "        # Needed for L-BFGS\n",
    "        def closure():\n",
    "            optimizer.zero_grad()\n",
    "            output = model(embeddings)\n",
    "            loss = criterion(output.squeeze(), labels.float().squeeze())\n",
    "            loss.backward()\n",
    "            losses.append(float(loss))\n",
    "            return loss\n",
    "    \n",
    "        optimizer.step(closure)\n",
    "        \n",
    "    return np.mean(losses)"
   ]
  },
  {
   "cell_type": "code",
   "execution_count": 35,
   "id": "2f683093-5193-4db8-9d6b-8944c273f86c",
   "metadata": {
    "tags": []
   },
   "outputs": [],
   "source": [
    "def evaluate(model, dataloader, criterion, optimizer) -> float:\n",
    "    model.eval()\n",
    "    losses: list[float] = []\n",
    "    with torch.no_grad():\n",
    "        for text, labels, embeddings in iter(dataloader):\n",
    "            output = model(embeddings)\n",
    "            loss = criterion(output.squeeze(), labels.float().squeeze())\n",
    "            losses.append(float(loss))\n",
    "            \n",
    "    return np.mean(losses)"
   ]
  },
  {
   "cell_type": "code",
   "execution_count": 55,
   "id": "0148d1e3-acdd-4089-8a77-145524c5bf16",
   "metadata": {
    "tags": []
   },
   "outputs": [],
   "source": [
    "def measure_performance(model, dataloader) -> dict:\n",
    "    model.eval()\n",
    "    confusion_matrix: dict = {\"TP\": 0, \"FP\": 0, \"FN\": 0, \"TN\": 0}\n",
    "    with torch.no_grad():\n",
    "        for text, labels, embeddings in iter(dataloader):\n",
    "            output = model.inference(embeddings)\n",
    "            output[output >= 0.5] = 1\n",
    "            output[output < 0.5] = 0\n",
    "            output = output.long().squeeze()\n",
    "            \n",
    "            for i in range(len(output)):\n",
    "                y = labels[i]\n",
    "                y_hat = output[i]\n",
    "                if (y == 1) and (y_hat == 1):\n",
    "                    confusion_matrix[\"TP\"] += 1\n",
    "                elif (y == 0) and (y_hat == 1):\n",
    "                    confusion_matrix[\"FP\"] += 1\n",
    "                elif (y == 1) and (y_hat == 0):\n",
    "                    confusion_matrix[\"FN\"] += 1\n",
    "                elif (y == 0) and (y_hat == 0):\n",
    "                    confusion_matrix[\"TN\"] += 1\n",
    "                    \n",
    "    \n",
    "    TP: int = confusion_matrix[\"TP\"]\n",
    "    FP: int = confusion_matrix[\"FP\"]\n",
    "    FN: int = confusion_matrix[\"FN\"]\n",
    "    TN: int = confusion_matrix[\"TN\"]\n",
    "    \n",
    "    try:\n",
    "        precision: float = round(TP / (TP + FP) * 100, 1)\n",
    "    except Exception as e:\n",
    "        precision: float = 0.0\n",
    "        \n",
    "    try:\n",
    "        recall: float = round(TP / (TP + FN) * 100, 1)\n",
    "    except Exception as e:\n",
    "        recall: float = 0.0\n",
    "        \n",
    "    try:\n",
    "        f1: float = round((2 * TP) / (2 * TP + FP + FN) * 100, 1)\n",
    "    except Exception as e:\n",
    "        f1: float = 0.0\n",
    "        \n",
    "    try:\n",
    "        acc: float = round((TP + TN) / (TP + TN + FP + FN) * 100, 1)\n",
    "    except Exception as e:\n",
    "        acc: float = 0.0\n",
    "        \n",
    "    return {\"F1\": f1, \"P\": precision, \"R\": recall, \"A\": acc}"
   ]
  },
  {
   "cell_type": "code",
   "execution_count": 196,
   "id": "ae5c85b6-867d-4a9d-8aab-2b940f7fb08d",
   "metadata": {
    "tags": []
   },
   "outputs": [],
   "source": [
    "LEARNING_RATE: float = 1e-2\n",
    "NUM_EPOCHS: int = 10\n",
    "BATCH_SIZE: int = 512\n",
    "DROPOUT: float = 0.4"
   ]
  },
  {
   "cell_type": "code",
   "execution_count": 112,
   "id": "653131c5-c01f-4e9a-9875-b4b1d0bcd1f0",
   "metadata": {
    "tags": []
   },
   "outputs": [],
   "source": [
    "train_dataloader = DataLoader(training_data, batch_size=BATCH_SIZE, shuffle=True)\n",
    "test_dataloader = DataLoader(test_data, batch_size=len(test_data), shuffle=False)"
   ]
  },
  {
   "cell_type": "code",
   "execution_count": 197,
   "id": "bc283e6e-9e5b-4e31-8677-f81a079e5a75",
   "metadata": {
    "tags": []
   },
   "outputs": [],
   "source": [
    "model = SimpleLinearClassifier(768, 1, dropout=DROPOUT)\n",
    "criterion = torch.nn.BCEWithLogitsLoss()\n",
    "#optimizer = torch.optim.LBFGS(model.parameters(), lr=LEARNING_RATE, max_iter=20, history_size=200)\n",
    "optimizer = torch.optim.SGD(model.parameters(), lr=LEARNING_RATE)"
   ]
  },
  {
   "cell_type": "code",
   "execution_count": 198,
   "id": "3b825fc8-88f3-4b4d-a8d8-6747a4895d7e",
   "metadata": {
    "tags": []
   },
   "outputs": [
    {
     "name": "stdout",
     "output_type": "stream",
     "text": [
      "Epoch     : 0\n",
      "Train loss: 0.6914991277256651\n",
      "Test loss : 0.6837975382804871\n",
      "{'F1': 86.3, 'P': 83.4, 'R': 89.4, 'A': 85.8}\n",
      "\n",
      "Epoch     : 1\n",
      "Train loss: 0.6903662564651818\n",
      "Test loss : 0.6790924072265625\n",
      "{'F1': 91.3, 'P': 90.2, 'R': 92.4, 'A': 91.2}\n",
      "\n",
      "Epoch     : 2\n",
      "Train loss: 0.6892842017292407\n",
      "Test loss : 0.6744468808174133\n",
      "{'F1': 91.6, 'P': 86.8, 'R': 97.0, 'A': 91.1}\n",
      "\n",
      "Epoch     : 3\n",
      "Train loss: 0.6877652238430589\n",
      "Test loss : 0.6700020432472229\n",
      "{'F1': 92.2, 'P': 88.0, 'R': 96.8, 'A': 91.8}\n",
      "\n",
      "Epoch     : 4\n",
      "Train loss: 0.6864548111646369\n",
      "Test loss : 0.6656339764595032\n",
      "{'F1': 93.0, 'P': 89.5, 'R': 96.8, 'A': 92.7}\n",
      "\n",
      "Epoch     : 5\n",
      "Train loss: 0.6851561645571695\n",
      "Test loss : 0.6614471673965454\n",
      "{'F1': 93.3, 'P': 90.1, 'R': 96.8, 'A': 93.1}\n",
      "\n",
      "Epoch     : 6\n",
      "Train loss: 0.6843689845509506\n",
      "Test loss : 0.6575391888618469\n",
      "{'F1': 94.3, 'P': 93.2, 'R': 95.4, 'A': 94.2}\n",
      "\n",
      "Epoch     : 7\n",
      "Train loss: 0.6831175579408709\n",
      "Test loss : 0.6535654067993164\n",
      "{'F1': 94.4, 'P': 93.2, 'R': 95.6, 'A': 94.3}\n",
      "\n",
      "Epoch     : 8\n",
      "Train loss: 0.6821499415561914\n",
      "Test loss : 0.6498438715934753\n",
      "{'F1': 94.7, 'P': 94.1, 'R': 95.4, 'A': 94.7}\n",
      "\n",
      "Epoch     : 9\n",
      "Train loss: 0.6810678309230713\n",
      "Test loss : 0.6460614204406738\n",
      "{'F1': 94.4, 'P': 93.2, 'R': 95.6, 'A': 94.3}\n",
      "\n",
      "CPU times: user 1.29 s, sys: 72.2 ms, total: 1.36 s\n",
      "Wall time: 1.28 s\n"
     ]
    }
   ],
   "source": [
    "%%time\n",
    "for i in range(NUM_EPOCHS):\n",
    "    train_loss: float = train(model, train_dataloader, criterion, optimizer)\n",
    "    test_loss: float = evaluate(model, test_dataloader, criterion, optimizer)\n",
    "    perf: dict = measure_performance(model, test_dataloader)\n",
    "    \n",
    "    print(f\"Epoch     : {i}\")\n",
    "    print(f\"Train loss: {train_loss}\")\n",
    "    print(f\"Test loss : {test_loss}\")\n",
    "    print(perf)\n",
    "    print()"
   ]
  },
  {
   "cell_type": "markdown",
   "id": "ed1c9223-29ea-4d1b-89f5-e3817591e171",
   "metadata": {},
   "source": [
    "Without addressing the quality of the training data an accuracy of of 94.4% can be achieved"
   ]
  },
  {
   "cell_type": "markdown",
   "id": "5c18f1df-c939-45b5-9be3-94a9b737f712",
   "metadata": {},
   "source": [
    "# Refining the training data\n",
    "After examining the training data it is clear that items containing markdown frequently are mislabelled.\n",
    "\n",
    "Applying a simple filter removes 2,668 samples, but the class balance remains (bad 1999, good 1999)."
   ]
  },
  {
   "cell_type": "code",
   "execution_count": 206,
   "id": "d983aca1-db2a-4bbe-81bf-df06e665a0b4",
   "metadata": {
    "tags": []
   },
   "outputs": [],
   "source": [
    "df_train = df_train[df_train[\"review\"].apply(lambda x: \"<\" not in x)]"
   ]
  },
  {
   "cell_type": "code",
   "execution_count": 214,
   "id": "5207e6a0-33e3-4f69-8975-85630811b708",
   "metadata": {
    "tags": []
   },
   "outputs": [],
   "source": [
    "training_data = TextClassificationDataset(df_train[\"review\"], \n",
    "                                          df_train[\"label\"].apply(lambda x: 1 if x == \"good\" else 0), \n",
    "                                          embedded_train[df_train.index])\n",
    "\n",
    "test_data = TextClassificationDataset(df_test[\"review\"], \n",
    "                                      df_test[\"label\"].apply(lambda x: 1 if x == \"good\" else 0), \n",
    "                                      embedded_test)"
   ]
  },
  {
   "cell_type": "code",
   "execution_count": 232,
   "id": "318e814c-0d33-4988-b5d4-63ad2b65a1fb",
   "metadata": {
    "tags": []
   },
   "outputs": [],
   "source": [
    "LEARNING_RATE: float = 5e-1\n",
    "NUM_EPOCHS: int = 50\n",
    "BATCH_SIZE: int = 128\n",
    "DROPOUT: float = 0.0"
   ]
  },
  {
   "cell_type": "code",
   "execution_count": 216,
   "id": "add95a8b-7706-4055-add7-94506a72a136",
   "metadata": {
    "tags": []
   },
   "outputs": [],
   "source": [
    "train_dataloader = DataLoader(training_data, batch_size=BATCH_SIZE, shuffle=True)\n",
    "test_dataloader = DataLoader(test_data, batch_size=len(test_data), shuffle=False)"
   ]
  },
  {
   "cell_type": "code",
   "execution_count": 233,
   "id": "e004cc50-8913-470e-bff9-d2b3a00a1c85",
   "metadata": {
    "tags": []
   },
   "outputs": [],
   "source": [
    "model = SimpleLinearClassifier(768, 1, dropout=DROPOUT)\n",
    "criterion = torch.nn.BCEWithLogitsLoss()\n",
    "#optimizer = torch.optim.LBFGS(model.parameters(), lr=LEARNING_RATE, max_iter=20, history_size=200)\n",
    "optimizer = torch.optim.SGD(model.parameters(), lr=LEARNING_RATE)"
   ]
  },
  {
   "cell_type": "code",
   "execution_count": 234,
   "id": "38191258-7234-4915-9b4e-9b70c7e7e50c",
   "metadata": {
    "tags": []
   },
   "outputs": [
    {
     "name": "stdout",
     "output_type": "stream",
     "text": [
      "Epoch     : 0\n",
      "Train loss: 0.6762487068772316\n",
      "Test loss : 0.6551909446716309\n",
      "{'F1': 89.0, 'P': 82.4, 'R': 96.6, 'A': 88.0}\n",
      "\n",
      "Epoch     : 1\n",
      "Train loss: 0.6407565698027611\n",
      "Test loss : 0.6215054988861084\n",
      "{'F1': 89.7, 'P': 83.7, 'R': 96.6, 'A': 88.9}\n",
      "\n",
      "Epoch     : 2\n",
      "Train loss: 0.6092429384589195\n",
      "Test loss : 0.5912564992904663\n",
      "{'F1': 91.7, 'P': 88.0, 'R': 95.6, 'A': 91.3}\n",
      "\n",
      "Epoch     : 3\n",
      "Train loss: 0.5811997056007385\n",
      "Test loss : 0.5641090273857117\n",
      "{'F1': 92.2, 'P': 89.3, 'R': 95.2, 'A': 91.9}\n",
      "\n",
      "Epoch     : 4\n",
      "Train loss: 0.5559907183051109\n",
      "Test loss : 0.5396519899368286\n",
      "{'F1': 92.5, 'P': 90.1, 'R': 95.0, 'A': 92.3}\n",
      "\n",
      "Epoch     : 5\n",
      "Train loss: 0.5328267216682434\n",
      "Test loss : 0.5174843668937683\n",
      "{'F1': 93.0, 'P': 91.7, 'R': 94.4, 'A': 92.9}\n",
      "\n",
      "Epoch     : 6\n",
      "Train loss: 0.5118910446763039\n",
      "Test loss : 0.49734389781951904\n",
      "{'F1': 93.6, 'P': 93.6, 'R': 93.6, 'A': 93.6}\n",
      "\n",
      "Epoch     : 7\n",
      "Train loss: 0.4932027831673622\n",
      "Test loss : 0.4789845645427704\n",
      "{'F1': 93.7, 'P': 93.4, 'R': 94.0, 'A': 93.7}\n",
      "\n",
      "Epoch     : 8\n",
      "Train loss: 0.4758783094584942\n",
      "Test loss : 0.4622228443622589\n",
      "{'F1': 94.1, 'P': 94.2, 'R': 94.0, 'A': 94.1}\n",
      "\n",
      "Epoch     : 9\n",
      "Train loss: 0.46004997193813324\n",
      "Test loss : 0.4468294680118561\n",
      "{'F1': 94.1, 'P': 94.4, 'R': 93.8, 'A': 94.1}\n",
      "\n",
      "Epoch     : 10\n",
      "Train loss: 0.44539710506796837\n",
      "Test loss : 0.43266093730926514\n",
      "{'F1': 94.2, 'P': 94.4, 'R': 94.0, 'A': 94.2}\n",
      "\n",
      "Epoch     : 11\n",
      "Train loss: 0.43218301981687546\n",
      "Test loss : 0.41960376501083374\n",
      "{'F1': 94.4, 'P': 94.6, 'R': 94.2, 'A': 94.4}\n",
      "\n",
      "Epoch     : 12\n",
      "Train loss: 0.41985947266221046\n",
      "Test loss : 0.40753763914108276\n",
      "{'F1': 94.5, 'P': 94.4, 'R': 94.6, 'A': 94.5}\n",
      "\n",
      "Epoch     : 13\n",
      "Train loss: 0.4085320010781288\n",
      "Test loss : 0.39633193612098694\n",
      "{'F1': 94.4, 'P': 94.6, 'R': 94.2, 'A': 94.4}\n",
      "\n",
      "Epoch     : 14\n",
      "Train loss: 0.39805514365434647\n",
      "Test loss : 0.3859102725982666\n",
      "{'F1': 94.4, 'P': 94.6, 'R': 94.2, 'A': 94.4}\n",
      "\n",
      "Epoch     : 15\n",
      "Train loss: 0.38796503469347954\n",
      "Test loss : 0.3762167990207672\n",
      "{'F1': 94.6, 'P': 95.1, 'R': 94.0, 'A': 94.6}\n",
      "\n",
      "Epoch     : 16\n",
      "Train loss: 0.3789924457669258\n",
      "Test loss : 0.36715206503868103\n",
      "{'F1': 94.6, 'P': 95.1, 'R': 94.0, 'A': 94.6}\n",
      "\n",
      "Epoch     : 17\n",
      "Train loss: 0.37018248438835144\n",
      "Test loss : 0.3586187958717346\n",
      "{'F1': 94.7, 'P': 95.2, 'R': 94.2, 'A': 94.7}\n",
      "\n",
      "Epoch     : 18\n",
      "Train loss: 0.3622373975813389\n",
      "Test loss : 0.35065850615501404\n",
      "{'F1': 94.8, 'P': 95.3, 'R': 94.2, 'A': 94.8}\n",
      "\n",
      "Epoch     : 19\n",
      "Train loss: 0.35471926629543304\n",
      "Test loss : 0.34311896562576294\n",
      "{'F1': 94.8, 'P': 95.3, 'R': 94.2, 'A': 94.8}\n",
      "\n",
      "Epoch     : 20\n",
      "Train loss: 0.3475738726556301\n",
      "Test loss : 0.3360501825809479\n",
      "{'F1': 94.8, 'P': 95.3, 'R': 94.2, 'A': 94.8}\n",
      "\n",
      "Epoch     : 21\n",
      "Train loss: 0.34085069969296455\n",
      "Test loss : 0.3293621242046356\n",
      "{'F1': 94.8, 'P': 95.3, 'R': 94.2, 'A': 94.8}\n",
      "\n",
      "Epoch     : 22\n",
      "Train loss: 0.33509209379553795\n",
      "Test loss : 0.32308632135391235\n",
      "{'F1': 94.8, 'P': 95.3, 'R': 94.2, 'A': 94.8}\n",
      "\n",
      "Epoch     : 23\n",
      "Train loss: 0.3285798393189907\n",
      "Test loss : 0.3171044588088989\n",
      "{'F1': 94.8, 'P': 95.3, 'R': 94.2, 'A': 94.8}\n",
      "\n",
      "Epoch     : 24\n",
      "Train loss: 0.32282349094748497\n",
      "Test loss : 0.31142863631248474\n",
      "{'F1': 94.9, 'P': 95.4, 'R': 94.4, 'A': 94.9}\n",
      "\n",
      "Epoch     : 25\n",
      "Train loss: 0.31775034964084625\n",
      "Test loss : 0.30605843663215637\n",
      "{'F1': 94.9, 'P': 95.4, 'R': 94.4, 'A': 94.9}\n",
      "\n",
      "Epoch     : 26\n",
      "Train loss: 0.31216762959957123\n",
      "Test loss : 0.3009395897388458\n",
      "{'F1': 94.9, 'P': 95.4, 'R': 94.4, 'A': 94.9}\n",
      "\n",
      "Epoch     : 27\n",
      "Train loss: 0.307555615901947\n",
      "Test loss : 0.29607054591178894\n",
      "{'F1': 94.9, 'P': 95.4, 'R': 94.4, 'A': 94.9}\n",
      "\n",
      "Epoch     : 28\n",
      "Train loss: 0.30301595479249954\n",
      "Test loss : 0.2914675772190094\n",
      "{'F1': 95.1, 'P': 95.7, 'R': 94.4, 'A': 95.1}\n",
      "\n",
      "Epoch     : 29\n",
      "Train loss: 0.298723503947258\n",
      "Test loss : 0.2869989573955536\n",
      "{'F1': 94.9, 'P': 95.4, 'R': 94.4, 'A': 94.9}\n",
      "\n",
      "Epoch     : 30\n",
      "Train loss: 0.2941175475716591\n",
      "Test loss : 0.2827621400356293\n",
      "{'F1': 95.0, 'P': 95.5, 'R': 94.4, 'A': 95.0}\n",
      "\n",
      "Epoch     : 31\n",
      "Train loss: 0.2902587689459324\n",
      "Test loss : 0.27870669960975647\n",
      "{'F1': 95.0, 'P': 95.5, 'R': 94.4, 'A': 95.0}\n",
      "\n",
      "Epoch     : 32\n",
      "Train loss: 0.28635236620903015\n",
      "Test loss : 0.27486497163772583\n",
      "{'F1': 95.1, 'P': 95.7, 'R': 94.4, 'A': 95.1}\n",
      "\n",
      "Epoch     : 33\n",
      "Train loss: 0.2824712172150612\n",
      "Test loss : 0.2711242139339447\n",
      "{'F1': 95.1, 'P': 95.6, 'R': 94.6, 'A': 95.1}\n",
      "\n",
      "Epoch     : 34\n",
      "Train loss: 0.27908970043063164\n",
      "Test loss : 0.2675586938858032\n",
      "{'F1': 95.2, 'P': 95.7, 'R': 94.6, 'A': 95.2}\n",
      "\n",
      "Epoch     : 35\n",
      "Train loss: 0.2761268690228462\n",
      "Test loss : 0.26412129402160645\n",
      "{'F1': 95.1, 'P': 95.6, 'R': 94.6, 'A': 95.1}\n",
      "\n",
      "Epoch     : 36\n",
      "Train loss: 0.2724362760782242\n",
      "Test loss : 0.26085150241851807\n",
      "{'F1': 95.2, 'P': 95.7, 'R': 94.6, 'A': 95.2}\n",
      "\n",
      "Epoch     : 37\n",
      "Train loss: 0.26969772949814796\n",
      "Test loss : 0.2576965391635895\n",
      "{'F1': 95.3, 'P': 95.9, 'R': 94.6, 'A': 95.3}\n",
      "\n",
      "Epoch     : 38\n",
      "Train loss: 0.2666621692478657\n",
      "Test loss : 0.2546415328979492\n",
      "{'F1': 95.3, 'P': 95.9, 'R': 94.6, 'A': 95.3}\n",
      "\n",
      "Epoch     : 39\n",
      "Train loss: 0.2636240981519222\n",
      "Test loss : 0.25169745087623596\n",
      "{'F1': 95.4, 'P': 96.1, 'R': 94.6, 'A': 95.4}\n",
      "\n",
      "Epoch     : 40\n",
      "Train loss: 0.2606194503605366\n",
      "Test loss : 0.24884577095508575\n",
      "{'F1': 95.4, 'P': 96.0, 'R': 94.8, 'A': 95.4}\n",
      "\n",
      "Epoch     : 41\n",
      "Train loss: 0.25801548548042774\n",
      "Test loss : 0.24611611664295197\n",
      "{'F1': 95.5, 'P': 96.1, 'R': 94.8, 'A': 95.5}\n",
      "\n",
      "Epoch     : 42\n",
      "Train loss: 0.25522097386419773\n",
      "Test loss : 0.24348577857017517\n",
      "{'F1': 95.5, 'P': 96.1, 'R': 94.8, 'A': 95.5}\n",
      "\n",
      "Epoch     : 43\n",
      "Train loss: 0.25346097722649574\n",
      "Test loss : 0.24092723429203033\n",
      "{'F1': 95.5, 'P': 96.1, 'R': 94.8, 'A': 95.5}\n",
      "\n",
      "Epoch     : 44\n",
      "Train loss: 0.2505757659673691\n",
      "Test loss : 0.2384629100561142\n",
      "{'F1': 95.6, 'P': 96.3, 'R': 94.8, 'A': 95.6}\n",
      "\n",
      "Epoch     : 45\n",
      "Train loss: 0.24806928634643555\n",
      "Test loss : 0.23608800768852234\n",
      "{'F1': 95.7, 'P': 96.5, 'R': 94.8, 'A': 95.7}\n",
      "\n",
      "Epoch     : 46\n",
      "Train loss: 0.24621309526264668\n",
      "Test loss : 0.23379796743392944\n",
      "{'F1': 95.8, 'P': 96.7, 'R': 94.8, 'A': 95.8}\n",
      "\n",
      "Epoch     : 47\n",
      "Train loss: 0.24411315843462944\n",
      "Test loss : 0.23157308995723724\n",
      "{'F1': 95.8, 'P': 96.7, 'R': 94.8, 'A': 95.8}\n",
      "\n",
      "Epoch     : 48\n",
      "Train loss: 0.2418395485728979\n",
      "Test loss : 0.22939614951610565\n",
      "{'F1': 95.8, 'P': 96.7, 'R': 94.8, 'A': 95.8}\n",
      "\n",
      "Epoch     : 49\n",
      "Train loss: 0.2400109488517046\n",
      "Test loss : 0.22729617357254028\n",
      "{'F1': 95.8, 'P': 96.7, 'R': 94.8, 'A': 95.8}\n",
      "\n",
      "CPU times: user 2.29 s, sys: 21.7 ms, total: 2.31 s\n",
      "Wall time: 2.31 s\n"
     ]
    }
   ],
   "source": [
    "%%time\n",
    "for i in range(NUM_EPOCHS):\n",
    "    train_loss: float = train(model, train_dataloader, criterion, optimizer)\n",
    "    test_loss: float = evaluate(model, test_dataloader, criterion, optimizer)\n",
    "    perf: dict = measure_performance(model, test_dataloader)\n",
    "    \n",
    "    print(f\"Epoch     : {i}\")\n",
    "    print(f\"Train loss: {train_loss}\")\n",
    "    print(f\"Test loss : {test_loss}\")\n",
    "    print(perf)\n",
    "    print()"
   ]
  },
  {
   "cell_type": "markdown",
   "id": "8169720c-6ba0-4fca-93ed-867c000bb4be",
   "metadata": {},
   "source": [
    "Slight improvement in accuracy to 95.8%"
   ]
  },
  {
   "cell_type": "code",
   "execution_count": null,
   "id": "9301fa74-0f2b-4ea3-be03-5c1f8edd70df",
   "metadata": {},
   "outputs": [],
   "source": []
  }
 ],
 "metadata": {
  "kernelspec": {
   "display_name": "Python 3 (ipykernel)",
   "language": "python",
   "name": "python3"
  },
  "language_info": {
   "codemirror_mode": {
    "name": "ipython",
    "version": 3
   },
   "file_extension": ".py",
   "mimetype": "text/x-python",
   "name": "python",
   "nbconvert_exporter": "python",
   "pygments_lexer": "ipython3",
   "version": "3.8.13"
  }
 },
 "nbformat": 4,
 "nbformat_minor": 5
}
